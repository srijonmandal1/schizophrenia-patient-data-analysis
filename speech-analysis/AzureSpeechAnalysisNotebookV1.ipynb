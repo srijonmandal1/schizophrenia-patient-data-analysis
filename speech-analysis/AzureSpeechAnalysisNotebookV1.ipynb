{
  "cells": [
    {
      "cell_type": "code",
      "source": [
        "# Import packages used by the following code snippets\n",
        "import csv\n",
        "import json\n",
        "import os\n",
        "import requests\n",
        "import time\n",
        "\n",
        "import pandas as pd\n",
        "\n",
        "from azure.ai.ml import Input, MLClient\n",
        "from azure.ai.ml.constants import AssetTypes\n",
        "from azure.identity import DefaultAzureCredential, InteractiveBrowserCredential\n",
        "from azure.ai.ml.entities import (\n",
        "    AmlCompute,\n",
        "    BatchDeployment,\n",
        "    BatchEndpoint,\n",
        "    BatchRetrySettings,\n",
        "    Model,\n",
        ")"
      ],
      "outputs": [],
      "execution_count": 3,
      "metadata": {
        "jupyter": {
          "source_hidden": false,
          "outputs_hidden": false
        },
        "nteract": {
          "transient": {
            "deleting": false
          }
        },
        "gather": {
          "logged": 1709438814774
        }
      }
    },
    {
      "cell_type": "code",
      "source": [
        "from azure.identity import (\n",
        "    DefaultAzureCredential,\n",
        "    InteractiveBrowserCredential,\n",
        "    ClientSecretCredential,\n",
        ")\n",
        "from azure.ai.ml.entities import AmlCompute\n",
        "import time\n",
        "\n",
        "try:\n",
        "    credential = DefaultAzureCredential()\n",
        "    credential.get_token(\"https://management.azure.com/.default\")\n",
        "except Exception as ex:\n",
        "    credential = InteractiveBrowserCredential()\n",
        "\n",
        "\n",
        "ml_client = MLClient(\n",
        "    credential=credential,\n",
        "    subscription_id=\"ed4b0003-99cf-4ec0-88ba-68847f627acf\",\n",
        "    resource_group_name=\"srijon-resourcegroup1\",\n",
        "    workspace_name=\"srijon-workspace1\",\n",
        ")\n",
        "\n",
        "# the models, fine tuning pipelines and environments are available in the AzureML system registry, \"azureml\"\n",
        "registry_ml_client = MLClient(credential, registry_name=\"azureml\")"
      ],
      "outputs": [],
      "execution_count": 2,
      "metadata": {
        "gather": {
          "logged": 1709438315926
        }
      }
    },
    {
      "cell_type": "code",
      "source": [
        "testdata = requests.get(\n",
        "    \"https://datasets-server.huggingface.co/first-rows?dataset=librispeech_asr&config=clean&split=test&offset=0&limit=100\"\n",
        ").text\n",
        "testdata = json.loads(testdata)"
      ],
      "outputs": [],
      "execution_count": 4,
      "metadata": {
        "jupyter": {
          "source_hidden": false,
          "outputs_hidden": false
        },
        "nteract": {
          "transient": {
            "deleting": false
          }
        },
        "gather": {
          "logged": 1709438844553
        }
      }
    },
    {
      "cell_type": "code",
      "source": [
        "model_name = \"openai-whisper-large\"\n",
        "model_version = \"10\"\n",
        "foundation_model = registry_ml_client.models.get(model_name, model_version)\n",
        "print(\n",
        "    f\"Using model name: {foundation_model.name}, version: {foundation_model.version}, id: {foundation_model.id} for inferencing.\"\n",
        ")"
      ],
      "outputs": [
        {
          "output_type": "stream",
          "name": "stdout",
          "text": "Using model name: openai-whisper-large, version: 10, id: azureml://registries/azureml/models/openai-whisper-large/versions/10 for inferencing.\n"
        }
      ],
      "execution_count": 5,
      "metadata": {
        "jupyter": {
          "source_hidden": false,
          "outputs_hidden": false
        },
        "nteract": {
          "transient": {
            "deleting": false
          }
        },
        "gather": {
          "logged": 1709438868059
        }
      }
    },
    {
      "cell_type": "code",
      "source": [
        "audio_urls_and_text = [\n",
        "    (row[\"row\"][\"audio\"][0][\"src\"], row[\"row\"][\"text\"]) for row in testdata[\"rows\"]\n",
        "]"
      ],
      "outputs": [],
      "execution_count": 6,
      "metadata": {
        "jupyter": {
          "source_hidden": false,
          "outputs_hidden": false
        },
        "nteract": {
          "transient": {
            "deleting": false
          }
        },
        "gather": {
          "logged": 1709438893581
        }
      }
    },
    {
      "cell_type": "code",
      "source": [
        "test_df = pd.DataFrame(data=audio_urls_and_text, columns=[\"audio\", \"text\"])"
      ],
      "outputs": [],
      "execution_count": 7,
      "metadata": {
        "jupyter": {
          "source_hidden": false,
          "outputs_hidden": false
        },
        "nteract": {
          "transient": {
            "deleting": false
          }
        },
        "gather": {
          "logged": 1709438911137
        }
      }
    },
    {
      "cell_type": "code",
      "source": [
        "# Define directories and filenames as variables\n",
        "dataset_dir = \"librispeech-dataset\"\n",
        "test_datafile = \"test_100.csv\"\n",
        "\n",
        "batch_dir = \"batch\"\n",
        "batch_inputs_dir = os.path.join(batch_dir, \"inputs\")\n",
        "batch_input_file = \"batch_input.csv\"\n",
        "os.makedirs(dataset_dir, exist_ok=True)\n",
        "os.makedirs(batch_dir, exist_ok=True)\n",
        "os.makedirs(batch_inputs_dir, exist_ok=True)"
      ],
      "outputs": [],
      "execution_count": 8,
      "metadata": {
        "jupyter": {
          "source_hidden": false,
          "outputs_hidden": false
        },
        "nteract": {
          "transient": {
            "deleting": false
          }
        },
        "gather": {
          "logged": 1709439226066
        }
      }
    },
    {
      "cell_type": "code",
      "source": [
        "pd.set_option(\n",
        "    \"display.max_colwidth\", 0\n",
        ")  # Set the max column width to 0 to display the full text\n",
        "test_df.head()"
      ],
      "outputs": [
        {
          "output_type": "execute_result",
          "execution_count": 9,
          "data": {
            "text/plain": "                                                                                                                                                                                                                                                                                                                                                                                                                                                                                                                                                        audio  \\\n0  https://datasets-server.huggingface.co/assets/librispeech_asr/--/8aeb8cac5ad165fc5574d4e84218154a8f4eca7b/--/clean/test/0/audio/audio.wav?Expires=1709442444&Signature=jwLst5hLO29MJkMCLuN8mPRaydYT~Y6psM7hrtWPVqlEBdPIqha35Aqbv9yWdDeTMKdTtynwLRGY~FIzBL0CBCvLLL4NqddjJwXN~O9b1CrIpZciyRRwCl5xrsApW4DehpdsP-i~FQKeQ9jtlcCCCJEBcXsgJkch3oCNtwW~OD-~gSa0VykG0Pwx6ffqXAJIW65VMXacDqPA53R7DaZ4Kvx7em~HWFohzWm~~xiUJ~a-Cgdt116nzj98sZtLnu7n4ItrlYhWIZg38Am6b2Emr9oYvdJ-ouIDl9yUZFgXiJ22hJdq1LJq5mutnHzbWC039Z915v3758jc6pJ0MuaoiQ__&Key-Pair-Id=K3EI6M078Z3AC3   \n1  https://datasets-server.huggingface.co/assets/librispeech_asr/--/8aeb8cac5ad165fc5574d4e84218154a8f4eca7b/--/clean/test/1/audio/audio.wav?Expires=1709442444&Signature=OB9sEAB8rbwDlwqKxv18ztq-W-r6cOJZF7WfWF0Unf0zfocd1CdA1W14AkxKVtPsx~egb7k2IRBBWdJDJN6IlOF4vTC-aiYs0g4zTA56R5rmbeHjMqlL86CtS6hI3jRxtTJw8rEuSzimjbpnBaxOKzxwr7cCWAFTrohJrCxiKLspIL9Lp5irB-swRzAasYpThHNJ84ymwXPevj-HCFuZFlbBqJQwAbvBhDvDaXCpuwXAXvfnTjsKi1yCIyCqwxa85GV7pzAK8lA0GgEhcub9bWnyJh6DJzmZzMAmKMK3fhQO~t9XuQCgWy~X1b~u~ikMTnABhoBhLRgAVRAM0QmpIQ__&Key-Pair-Id=K3EI6M078Z3AC3   \n2  https://datasets-server.huggingface.co/assets/librispeech_asr/--/8aeb8cac5ad165fc5574d4e84218154a8f4eca7b/--/clean/test/2/audio/audio.wav?Expires=1709442444&Signature=Y1TXR8NWSKf5NLiIqaa7WH~UV5JR126HQ6U-5Ovgl7oCNyjK7WNga1NO~5rFgGw5Af0PWI2MMhcCDWfPr7~9AC3dhmgKt9HCh-FbPwKo-OcBxINgKhy6gNdimMO3hBV9kVt5kXGxiHUGkRJYiEoI71iLH-PrchGL8UicUJ~JxLOoawnywsHZMo47~0Hk-kZNNHjL78R4hGDqS5lk3prqzsMbrPOQV14M-aHbPcsLWmLyWv19qpKum4S62q6Wz3BdjX1yD0rqz0vDHoYCMZRj1nbgZbDwKp3LAINOa-fveoN3zi-ykOg-GHx1609CeCOI1AeCSliUmPP0dQ-p-SXLrA__&Key-Pair-Id=K3EI6M078Z3AC3   \n3  https://datasets-server.huggingface.co/assets/librispeech_asr/--/8aeb8cac5ad165fc5574d4e84218154a8f4eca7b/--/clean/test/3/audio/audio.wav?Expires=1709442444&Signature=NIfzDxN5iqq5naBbM3TW0uwjbSJ6zJxsgaEzSBBec--dJGVsAHFeHWvhsVU~BAlYs-OAkN7~lqpb-MMeP-u7KBNCwkLnOYo8djLKG8jaHSEZoD3w8C9oO5YbfQtE12JWx~e20dovkS2rVowYcwjfTZ-wqxLz2e9M94AmedFuflkcht~JbP-jTAONYN5F0fqZBVHa8~SZdB--oQeMK-~EP~g4KjJXamHmasBlrc9p2FyG4JNuHS5hP1Hz6TSqGh1WvObMtCm4VZtd8D8kM-RjOZ1OZlueS8RKMT6VRGQsLuG~v8~dnB5FWjSkg8avIIt8fS8Dv0~NUtwsOSNwDNOYNg__&Key-Pair-Id=K3EI6M078Z3AC3   \n4  https://datasets-server.huggingface.co/assets/librispeech_asr/--/8aeb8cac5ad165fc5574d4e84218154a8f4eca7b/--/clean/test/4/audio/audio.wav?Expires=1709442444&Signature=gveEQp1XUlzOIcjZlGx7tGyZd9s4Jc1kk1wIrbF8WhBtC1mRPNMXs~QTZMWQsLF0CEn6Q9TzDval7s949KwVw6G-GHKIWW7LwsUei0j6e38UqeSEzLGNbnlpYfy8UvPKPtz9kNIo72Qr2bf-i1DHs49d~gZ27X4aNzJffQVN9FNxQMaesuhPfFjTpfxuNbHPZmMQZ2qHi~5ShSwL6W2FM5ysVvWzdpuEPo9PBasK3o1pSKToqFXHCSp2zog3ugo5~u2mp2XL0G3YOROYDQ~~A3IAqYMm66HV~Y3Ct3Y4OJ6TSJyjHxmfxCo5S62Q2wdS95jeiy-0PxeL~rJ-LW3GwA__&Key-Pair-Id=K3EI6M078Z3AC3   \n\n                                                                                                                                                                                                                                                                                                                                                                text  \n0  CONCORD RETURNED TO ITS PLACE AMIDST THE TENTS                                                                                                                                                                                                                                                                                                                     \n1  THE ENGLISH FORWARDED TO THE FRENCH BASKETS OF FLOWERS OF WHICH THEY HAD MADE A PLENTIFUL PROVISION TO GREET THE ARRIVAL OF THE YOUNG PRINCESS THE FRENCH IN RETURN INVITED THE ENGLISH TO A SUPPER WHICH WAS TO BE GIVEN THE NEXT DAY                                                                                                                             \n2  CONGRATULATIONS WERE POURED IN UPON THE PRINCESS EVERYWHERE DURING HER JOURNEY                                                                                                                                                                                                                                                                                     \n3  FROM THE RESPECT PAID HER ON ALL SIDES SHE SEEMED LIKE A QUEEN AND FROM THE ADORATION WITH WHICH SHE WAS TREATED BY TWO OR THREE SHE APPEARED AN OBJECT OF WORSHIP THE QUEEN MOTHER GAVE THE FRENCH THE MOST AFFECTIONATE RECEPTION FRANCE WAS HER NATIVE COUNTRY AND SHE HAD SUFFERED TOO MUCH UNHAPPINESS IN ENGLAND FOR ENGLAND TO HAVE MADE HER FORGET FRANCE  \n4  SHE TAUGHT HER DAUGHTER THEN BY HER OWN AFFECTION FOR IT THAT LOVE FOR A COUNTRY WHERE THEY HAD BOTH BEEN HOSPITABLY RECEIVED AND WHERE A BRILLIANT FUTURE OPENED BEFORE THEM                                                                                                                                                                                      ",
            "text/html": "<div>\n<style scoped>\n    .dataframe tbody tr th:only-of-type {\n        vertical-align: middle;\n    }\n\n    .dataframe tbody tr th {\n        vertical-align: top;\n    }\n\n    .dataframe thead th {\n        text-align: right;\n    }\n</style>\n<table border=\"1\" class=\"dataframe\">\n  <thead>\n    <tr style=\"text-align: right;\">\n      <th></th>\n      <th>audio</th>\n      <th>text</th>\n    </tr>\n  </thead>\n  <tbody>\n    <tr>\n      <th>0</th>\n      <td>https://datasets-server.huggingface.co/assets/librispeech_asr/--/8aeb8cac5ad165fc5574d4e84218154a8f4eca7b/--/clean/test/0/audio/audio.wav?Expires=1709442444&amp;Signature=jwLst5hLO29MJkMCLuN8mPRaydYT~Y6psM7hrtWPVqlEBdPIqha35Aqbv9yWdDeTMKdTtynwLRGY~FIzBL0CBCvLLL4NqddjJwXN~O9b1CrIpZciyRRwCl5xrsApW4DehpdsP-i~FQKeQ9jtlcCCCJEBcXsgJkch3oCNtwW~OD-~gSa0VykG0Pwx6ffqXAJIW65VMXacDqPA53R7DaZ4Kvx7em~HWFohzWm~~xiUJ~a-Cgdt116nzj98sZtLnu7n4ItrlYhWIZg38Am6b2Emr9oYvdJ-ouIDl9yUZFgXiJ22hJdq1LJq5mutnHzbWC039Z915v3758jc6pJ0MuaoiQ__&amp;Key-Pair-Id=K3EI6M078Z3AC3</td>\n      <td>CONCORD RETURNED TO ITS PLACE AMIDST THE TENTS</td>\n    </tr>\n    <tr>\n      <th>1</th>\n      <td>https://datasets-server.huggingface.co/assets/librispeech_asr/--/8aeb8cac5ad165fc5574d4e84218154a8f4eca7b/--/clean/test/1/audio/audio.wav?Expires=1709442444&amp;Signature=OB9sEAB8rbwDlwqKxv18ztq-W-r6cOJZF7WfWF0Unf0zfocd1CdA1W14AkxKVtPsx~egb7k2IRBBWdJDJN6IlOF4vTC-aiYs0g4zTA56R5rmbeHjMqlL86CtS6hI3jRxtTJw8rEuSzimjbpnBaxOKzxwr7cCWAFTrohJrCxiKLspIL9Lp5irB-swRzAasYpThHNJ84ymwXPevj-HCFuZFlbBqJQwAbvBhDvDaXCpuwXAXvfnTjsKi1yCIyCqwxa85GV7pzAK8lA0GgEhcub9bWnyJh6DJzmZzMAmKMK3fhQO~t9XuQCgWy~X1b~u~ikMTnABhoBhLRgAVRAM0QmpIQ__&amp;Key-Pair-Id=K3EI6M078Z3AC3</td>\n      <td>THE ENGLISH FORWARDED TO THE FRENCH BASKETS OF FLOWERS OF WHICH THEY HAD MADE A PLENTIFUL PROVISION TO GREET THE ARRIVAL OF THE YOUNG PRINCESS THE FRENCH IN RETURN INVITED THE ENGLISH TO A SUPPER WHICH WAS TO BE GIVEN THE NEXT DAY</td>\n    </tr>\n    <tr>\n      <th>2</th>\n      <td>https://datasets-server.huggingface.co/assets/librispeech_asr/--/8aeb8cac5ad165fc5574d4e84218154a8f4eca7b/--/clean/test/2/audio/audio.wav?Expires=1709442444&amp;Signature=Y1TXR8NWSKf5NLiIqaa7WH~UV5JR126HQ6U-5Ovgl7oCNyjK7WNga1NO~5rFgGw5Af0PWI2MMhcCDWfPr7~9AC3dhmgKt9HCh-FbPwKo-OcBxINgKhy6gNdimMO3hBV9kVt5kXGxiHUGkRJYiEoI71iLH-PrchGL8UicUJ~JxLOoawnywsHZMo47~0Hk-kZNNHjL78R4hGDqS5lk3prqzsMbrPOQV14M-aHbPcsLWmLyWv19qpKum4S62q6Wz3BdjX1yD0rqz0vDHoYCMZRj1nbgZbDwKp3LAINOa-fveoN3zi-ykOg-GHx1609CeCOI1AeCSliUmPP0dQ-p-SXLrA__&amp;Key-Pair-Id=K3EI6M078Z3AC3</td>\n      <td>CONGRATULATIONS WERE POURED IN UPON THE PRINCESS EVERYWHERE DURING HER JOURNEY</td>\n    </tr>\n    <tr>\n      <th>3</th>\n      <td>https://datasets-server.huggingface.co/assets/librispeech_asr/--/8aeb8cac5ad165fc5574d4e84218154a8f4eca7b/--/clean/test/3/audio/audio.wav?Expires=1709442444&amp;Signature=NIfzDxN5iqq5naBbM3TW0uwjbSJ6zJxsgaEzSBBec--dJGVsAHFeHWvhsVU~BAlYs-OAkN7~lqpb-MMeP-u7KBNCwkLnOYo8djLKG8jaHSEZoD3w8C9oO5YbfQtE12JWx~e20dovkS2rVowYcwjfTZ-wqxLz2e9M94AmedFuflkcht~JbP-jTAONYN5F0fqZBVHa8~SZdB--oQeMK-~EP~g4KjJXamHmasBlrc9p2FyG4JNuHS5hP1Hz6TSqGh1WvObMtCm4VZtd8D8kM-RjOZ1OZlueS8RKMT6VRGQsLuG~v8~dnB5FWjSkg8avIIt8fS8Dv0~NUtwsOSNwDNOYNg__&amp;Key-Pair-Id=K3EI6M078Z3AC3</td>\n      <td>FROM THE RESPECT PAID HER ON ALL SIDES SHE SEEMED LIKE A QUEEN AND FROM THE ADORATION WITH WHICH SHE WAS TREATED BY TWO OR THREE SHE APPEARED AN OBJECT OF WORSHIP THE QUEEN MOTHER GAVE THE FRENCH THE MOST AFFECTIONATE RECEPTION FRANCE WAS HER NATIVE COUNTRY AND SHE HAD SUFFERED TOO MUCH UNHAPPINESS IN ENGLAND FOR ENGLAND TO HAVE MADE HER FORGET FRANCE</td>\n    </tr>\n    <tr>\n      <th>4</th>\n      <td>https://datasets-server.huggingface.co/assets/librispeech_asr/--/8aeb8cac5ad165fc5574d4e84218154a8f4eca7b/--/clean/test/4/audio/audio.wav?Expires=1709442444&amp;Signature=gveEQp1XUlzOIcjZlGx7tGyZd9s4Jc1kk1wIrbF8WhBtC1mRPNMXs~QTZMWQsLF0CEn6Q9TzDval7s949KwVw6G-GHKIWW7LwsUei0j6e38UqeSEzLGNbnlpYfy8UvPKPtz9kNIo72Qr2bf-i1DHs49d~gZ27X4aNzJffQVN9FNxQMaesuhPfFjTpfxuNbHPZmMQZ2qHi~5ShSwL6W2FM5ysVvWzdpuEPo9PBasK3o1pSKToqFXHCSp2zog3ugo5~u2mp2XL0G3YOROYDQ~~A3IAqYMm66HV~Y3Ct3Y4OJ6TSJyjHxmfxCo5S62Q2wdS95jeiy-0PxeL~rJ-LW3GwA__&amp;Key-Pair-Id=K3EI6M078Z3AC3</td>\n      <td>SHE TAUGHT HER DAUGHTER THEN BY HER OWN AFFECTION FOR IT THAT LOVE FOR A COUNTRY WHERE THEY HAD BOTH BEEN HOSPITABLY RECEIVED AND WHERE A BRILLIANT FUTURE OPENED BEFORE THEM</td>\n    </tr>\n  </tbody>\n</table>\n</div>"
          },
          "metadata": {}
        }
      ],
      "execution_count": 9,
      "metadata": {
        "jupyter": {
          "source_hidden": false,
          "outputs_hidden": false
        },
        "nteract": {
          "transient": {
            "deleting": false
          }
        },
        "gather": {
          "logged": 1709439227586
        }
      }
    },
    {
      "cell_type": "code",
      "source": [
        "test_df[\"language\"] = \"en\"\n",
        "test_df.to_csv(os.path.join(\".\", dataset_dir, test_datafile), index=False)\n",
        "\n",
        "pd.set_option(\n",
        "    \"display.max_colwidth\", 0\n",
        ")  # Set the max column width to 0 to display the full text\n",
        "test_df.head()"
      ],
      "outputs": [
        {
          "output_type": "execute_result",
          "execution_count": 10,
          "data": {
            "text/plain": "                                                                                                                                                                                                                                                                                                                                                                                                                                                                                                                                                        audio  \\\n0  https://datasets-server.huggingface.co/assets/librispeech_asr/--/8aeb8cac5ad165fc5574d4e84218154a8f4eca7b/--/clean/test/0/audio/audio.wav?Expires=1709442444&Signature=jwLst5hLO29MJkMCLuN8mPRaydYT~Y6psM7hrtWPVqlEBdPIqha35Aqbv9yWdDeTMKdTtynwLRGY~FIzBL0CBCvLLL4NqddjJwXN~O9b1CrIpZciyRRwCl5xrsApW4DehpdsP-i~FQKeQ9jtlcCCCJEBcXsgJkch3oCNtwW~OD-~gSa0VykG0Pwx6ffqXAJIW65VMXacDqPA53R7DaZ4Kvx7em~HWFohzWm~~xiUJ~a-Cgdt116nzj98sZtLnu7n4ItrlYhWIZg38Am6b2Emr9oYvdJ-ouIDl9yUZFgXiJ22hJdq1LJq5mutnHzbWC039Z915v3758jc6pJ0MuaoiQ__&Key-Pair-Id=K3EI6M078Z3AC3   \n1  https://datasets-server.huggingface.co/assets/librispeech_asr/--/8aeb8cac5ad165fc5574d4e84218154a8f4eca7b/--/clean/test/1/audio/audio.wav?Expires=1709442444&Signature=OB9sEAB8rbwDlwqKxv18ztq-W-r6cOJZF7WfWF0Unf0zfocd1CdA1W14AkxKVtPsx~egb7k2IRBBWdJDJN6IlOF4vTC-aiYs0g4zTA56R5rmbeHjMqlL86CtS6hI3jRxtTJw8rEuSzimjbpnBaxOKzxwr7cCWAFTrohJrCxiKLspIL9Lp5irB-swRzAasYpThHNJ84ymwXPevj-HCFuZFlbBqJQwAbvBhDvDaXCpuwXAXvfnTjsKi1yCIyCqwxa85GV7pzAK8lA0GgEhcub9bWnyJh6DJzmZzMAmKMK3fhQO~t9XuQCgWy~X1b~u~ikMTnABhoBhLRgAVRAM0QmpIQ__&Key-Pair-Id=K3EI6M078Z3AC3   \n2  https://datasets-server.huggingface.co/assets/librispeech_asr/--/8aeb8cac5ad165fc5574d4e84218154a8f4eca7b/--/clean/test/2/audio/audio.wav?Expires=1709442444&Signature=Y1TXR8NWSKf5NLiIqaa7WH~UV5JR126HQ6U-5Ovgl7oCNyjK7WNga1NO~5rFgGw5Af0PWI2MMhcCDWfPr7~9AC3dhmgKt9HCh-FbPwKo-OcBxINgKhy6gNdimMO3hBV9kVt5kXGxiHUGkRJYiEoI71iLH-PrchGL8UicUJ~JxLOoawnywsHZMo47~0Hk-kZNNHjL78R4hGDqS5lk3prqzsMbrPOQV14M-aHbPcsLWmLyWv19qpKum4S62q6Wz3BdjX1yD0rqz0vDHoYCMZRj1nbgZbDwKp3LAINOa-fveoN3zi-ykOg-GHx1609CeCOI1AeCSliUmPP0dQ-p-SXLrA__&Key-Pair-Id=K3EI6M078Z3AC3   \n3  https://datasets-server.huggingface.co/assets/librispeech_asr/--/8aeb8cac5ad165fc5574d4e84218154a8f4eca7b/--/clean/test/3/audio/audio.wav?Expires=1709442444&Signature=NIfzDxN5iqq5naBbM3TW0uwjbSJ6zJxsgaEzSBBec--dJGVsAHFeHWvhsVU~BAlYs-OAkN7~lqpb-MMeP-u7KBNCwkLnOYo8djLKG8jaHSEZoD3w8C9oO5YbfQtE12JWx~e20dovkS2rVowYcwjfTZ-wqxLz2e9M94AmedFuflkcht~JbP-jTAONYN5F0fqZBVHa8~SZdB--oQeMK-~EP~g4KjJXamHmasBlrc9p2FyG4JNuHS5hP1Hz6TSqGh1WvObMtCm4VZtd8D8kM-RjOZ1OZlueS8RKMT6VRGQsLuG~v8~dnB5FWjSkg8avIIt8fS8Dv0~NUtwsOSNwDNOYNg__&Key-Pair-Id=K3EI6M078Z3AC3   \n4  https://datasets-server.huggingface.co/assets/librispeech_asr/--/8aeb8cac5ad165fc5574d4e84218154a8f4eca7b/--/clean/test/4/audio/audio.wav?Expires=1709442444&Signature=gveEQp1XUlzOIcjZlGx7tGyZd9s4Jc1kk1wIrbF8WhBtC1mRPNMXs~QTZMWQsLF0CEn6Q9TzDval7s949KwVw6G-GHKIWW7LwsUei0j6e38UqeSEzLGNbnlpYfy8UvPKPtz9kNIo72Qr2bf-i1DHs49d~gZ27X4aNzJffQVN9FNxQMaesuhPfFjTpfxuNbHPZmMQZ2qHi~5ShSwL6W2FM5ysVvWzdpuEPo9PBasK3o1pSKToqFXHCSp2zog3ugo5~u2mp2XL0G3YOROYDQ~~A3IAqYMm66HV~Y3Ct3Y4OJ6TSJyjHxmfxCo5S62Q2wdS95jeiy-0PxeL~rJ-LW3GwA__&Key-Pair-Id=K3EI6M078Z3AC3   \n\n                                                                                                                                                                                                                                                                                                                                                                text  \\\n0  CONCORD RETURNED TO ITS PLACE AMIDST THE TENTS                                                                                                                                                                                                                                                                                                                      \n1  THE ENGLISH FORWARDED TO THE FRENCH BASKETS OF FLOWERS OF WHICH THEY HAD MADE A PLENTIFUL PROVISION TO GREET THE ARRIVAL OF THE YOUNG PRINCESS THE FRENCH IN RETURN INVITED THE ENGLISH TO A SUPPER WHICH WAS TO BE GIVEN THE NEXT DAY                                                                                                                              \n2  CONGRATULATIONS WERE POURED IN UPON THE PRINCESS EVERYWHERE DURING HER JOURNEY                                                                                                                                                                                                                                                                                      \n3  FROM THE RESPECT PAID HER ON ALL SIDES SHE SEEMED LIKE A QUEEN AND FROM THE ADORATION WITH WHICH SHE WAS TREATED BY TWO OR THREE SHE APPEARED AN OBJECT OF WORSHIP THE QUEEN MOTHER GAVE THE FRENCH THE MOST AFFECTIONATE RECEPTION FRANCE WAS HER NATIVE COUNTRY AND SHE HAD SUFFERED TOO MUCH UNHAPPINESS IN ENGLAND FOR ENGLAND TO HAVE MADE HER FORGET FRANCE   \n4  SHE TAUGHT HER DAUGHTER THEN BY HER OWN AFFECTION FOR IT THAT LOVE FOR A COUNTRY WHERE THEY HAD BOTH BEEN HOSPITABLY RECEIVED AND WHERE A BRILLIANT FUTURE OPENED BEFORE THEM                                                                                                                                                                                       \n\n  language  \n0  en       \n1  en       \n2  en       \n3  en       \n4  en       ",
            "text/html": "<div>\n<style scoped>\n    .dataframe tbody tr th:only-of-type {\n        vertical-align: middle;\n    }\n\n    .dataframe tbody tr th {\n        vertical-align: top;\n    }\n\n    .dataframe thead th {\n        text-align: right;\n    }\n</style>\n<table border=\"1\" class=\"dataframe\">\n  <thead>\n    <tr style=\"text-align: right;\">\n      <th></th>\n      <th>audio</th>\n      <th>text</th>\n      <th>language</th>\n    </tr>\n  </thead>\n  <tbody>\n    <tr>\n      <th>0</th>\n      <td>https://datasets-server.huggingface.co/assets/librispeech_asr/--/8aeb8cac5ad165fc5574d4e84218154a8f4eca7b/--/clean/test/0/audio/audio.wav?Expires=1709442444&amp;Signature=jwLst5hLO29MJkMCLuN8mPRaydYT~Y6psM7hrtWPVqlEBdPIqha35Aqbv9yWdDeTMKdTtynwLRGY~FIzBL0CBCvLLL4NqddjJwXN~O9b1CrIpZciyRRwCl5xrsApW4DehpdsP-i~FQKeQ9jtlcCCCJEBcXsgJkch3oCNtwW~OD-~gSa0VykG0Pwx6ffqXAJIW65VMXacDqPA53R7DaZ4Kvx7em~HWFohzWm~~xiUJ~a-Cgdt116nzj98sZtLnu7n4ItrlYhWIZg38Am6b2Emr9oYvdJ-ouIDl9yUZFgXiJ22hJdq1LJq5mutnHzbWC039Z915v3758jc6pJ0MuaoiQ__&amp;Key-Pair-Id=K3EI6M078Z3AC3</td>\n      <td>CONCORD RETURNED TO ITS PLACE AMIDST THE TENTS</td>\n      <td>en</td>\n    </tr>\n    <tr>\n      <th>1</th>\n      <td>https://datasets-server.huggingface.co/assets/librispeech_asr/--/8aeb8cac5ad165fc5574d4e84218154a8f4eca7b/--/clean/test/1/audio/audio.wav?Expires=1709442444&amp;Signature=OB9sEAB8rbwDlwqKxv18ztq-W-r6cOJZF7WfWF0Unf0zfocd1CdA1W14AkxKVtPsx~egb7k2IRBBWdJDJN6IlOF4vTC-aiYs0g4zTA56R5rmbeHjMqlL86CtS6hI3jRxtTJw8rEuSzimjbpnBaxOKzxwr7cCWAFTrohJrCxiKLspIL9Lp5irB-swRzAasYpThHNJ84ymwXPevj-HCFuZFlbBqJQwAbvBhDvDaXCpuwXAXvfnTjsKi1yCIyCqwxa85GV7pzAK8lA0GgEhcub9bWnyJh6DJzmZzMAmKMK3fhQO~t9XuQCgWy~X1b~u~ikMTnABhoBhLRgAVRAM0QmpIQ__&amp;Key-Pair-Id=K3EI6M078Z3AC3</td>\n      <td>THE ENGLISH FORWARDED TO THE FRENCH BASKETS OF FLOWERS OF WHICH THEY HAD MADE A PLENTIFUL PROVISION TO GREET THE ARRIVAL OF THE YOUNG PRINCESS THE FRENCH IN RETURN INVITED THE ENGLISH TO A SUPPER WHICH WAS TO BE GIVEN THE NEXT DAY</td>\n      <td>en</td>\n    </tr>\n    <tr>\n      <th>2</th>\n      <td>https://datasets-server.huggingface.co/assets/librispeech_asr/--/8aeb8cac5ad165fc5574d4e84218154a8f4eca7b/--/clean/test/2/audio/audio.wav?Expires=1709442444&amp;Signature=Y1TXR8NWSKf5NLiIqaa7WH~UV5JR126HQ6U-5Ovgl7oCNyjK7WNga1NO~5rFgGw5Af0PWI2MMhcCDWfPr7~9AC3dhmgKt9HCh-FbPwKo-OcBxINgKhy6gNdimMO3hBV9kVt5kXGxiHUGkRJYiEoI71iLH-PrchGL8UicUJ~JxLOoawnywsHZMo47~0Hk-kZNNHjL78R4hGDqS5lk3prqzsMbrPOQV14M-aHbPcsLWmLyWv19qpKum4S62q6Wz3BdjX1yD0rqz0vDHoYCMZRj1nbgZbDwKp3LAINOa-fveoN3zi-ykOg-GHx1609CeCOI1AeCSliUmPP0dQ-p-SXLrA__&amp;Key-Pair-Id=K3EI6M078Z3AC3</td>\n      <td>CONGRATULATIONS WERE POURED IN UPON THE PRINCESS EVERYWHERE DURING HER JOURNEY</td>\n      <td>en</td>\n    </tr>\n    <tr>\n      <th>3</th>\n      <td>https://datasets-server.huggingface.co/assets/librispeech_asr/--/8aeb8cac5ad165fc5574d4e84218154a8f4eca7b/--/clean/test/3/audio/audio.wav?Expires=1709442444&amp;Signature=NIfzDxN5iqq5naBbM3TW0uwjbSJ6zJxsgaEzSBBec--dJGVsAHFeHWvhsVU~BAlYs-OAkN7~lqpb-MMeP-u7KBNCwkLnOYo8djLKG8jaHSEZoD3w8C9oO5YbfQtE12JWx~e20dovkS2rVowYcwjfTZ-wqxLz2e9M94AmedFuflkcht~JbP-jTAONYN5F0fqZBVHa8~SZdB--oQeMK-~EP~g4KjJXamHmasBlrc9p2FyG4JNuHS5hP1Hz6TSqGh1WvObMtCm4VZtd8D8kM-RjOZ1OZlueS8RKMT6VRGQsLuG~v8~dnB5FWjSkg8avIIt8fS8Dv0~NUtwsOSNwDNOYNg__&amp;Key-Pair-Id=K3EI6M078Z3AC3</td>\n      <td>FROM THE RESPECT PAID HER ON ALL SIDES SHE SEEMED LIKE A QUEEN AND FROM THE ADORATION WITH WHICH SHE WAS TREATED BY TWO OR THREE SHE APPEARED AN OBJECT OF WORSHIP THE QUEEN MOTHER GAVE THE FRENCH THE MOST AFFECTIONATE RECEPTION FRANCE WAS HER NATIVE COUNTRY AND SHE HAD SUFFERED TOO MUCH UNHAPPINESS IN ENGLAND FOR ENGLAND TO HAVE MADE HER FORGET FRANCE</td>\n      <td>en</td>\n    </tr>\n    <tr>\n      <th>4</th>\n      <td>https://datasets-server.huggingface.co/assets/librispeech_asr/--/8aeb8cac5ad165fc5574d4e84218154a8f4eca7b/--/clean/test/4/audio/audio.wav?Expires=1709442444&amp;Signature=gveEQp1XUlzOIcjZlGx7tGyZd9s4Jc1kk1wIrbF8WhBtC1mRPNMXs~QTZMWQsLF0CEn6Q9TzDval7s949KwVw6G-GHKIWW7LwsUei0j6e38UqeSEzLGNbnlpYfy8UvPKPtz9kNIo72Qr2bf-i1DHs49d~gZ27X4aNzJffQVN9FNxQMaesuhPfFjTpfxuNbHPZmMQZ2qHi~5ShSwL6W2FM5ysVvWzdpuEPo9PBasK3o1pSKToqFXHCSp2zog3ugo5~u2mp2XL0G3YOROYDQ~~A3IAqYMm66HV~Y3Ct3Y4OJ6TSJyjHxmfxCo5S62Q2wdS95jeiy-0PxeL~rJ-LW3GwA__&amp;Key-Pair-Id=K3EI6M078Z3AC3</td>\n      <td>SHE TAUGHT HER DAUGHTER THEN BY HER OWN AFFECTION FOR IT THAT LOVE FOR A COUNTRY WHERE THEY HAD BOTH BEEN HOSPITABLY RECEIVED AND WHERE A BRILLIANT FUTURE OPENED BEFORE THEM</td>\n      <td>en</td>\n    </tr>\n  </tbody>\n</table>\n</div>"
          },
          "metadata": {}
        }
      ],
      "execution_count": 10,
      "metadata": {
        "jupyter": {
          "source_hidden": false,
          "outputs_hidden": false
        },
        "nteract": {
          "transient": {
            "deleting": false
          }
        },
        "gather": {
          "logged": 1709439275633
        }
      }
    },
    {
      "cell_type": "code",
      "source": [
        "batch_df = test_df[[\"audio\", \"language\"]]\n",
        "\n",
        "# Divide this into files of 10 rows each\n",
        "batch_size_per_predict = 10\n",
        "for i in range(0, len(batch_df), batch_size_per_predict):\n",
        "    j = i + batch_size_per_predict\n",
        "    batch_df[i:j].to_csv(\n",
        "        os.path.join(batch_inputs_dir, str(i) + batch_input_file), quoting=csv.QUOTE_ALL\n",
        "    )\n",
        "\n",
        "# Check out the first and last file name created\n",
        "input_files = os.listdir(batch_inputs_dir)\n",
        "print(f\"{input_files[0]} to {str(i)}{batch_input_file}.\")"
      ],
      "outputs": [
        {
          "output_type": "stream",
          "name": "stdout",
          "text": ".amlignore to 90batch_input.csv.\n"
        }
      ],
      "execution_count": 12,
      "metadata": {
        "jupyter": {
          "source_hidden": false,
          "outputs_hidden": false
        },
        "nteract": {
          "transient": {
            "deleting": false
          }
        },
        "gather": {
          "logged": 1709439636231
        }
      }
    },
    {
      "cell_type": "code",
      "source": [
        "compute_name = \"test-cpu-cluster\"\n",
        "\n",
        "compute_cluster = AmlCompute(\n",
        "    name=compute_name,\n",
        "    description=\"An AML compute cluster\",\n",
        "    size=\"Standard_E4as_v4\",\n",
        "    min_instances=1,\n",
        "    max_instances=2,\n",
        "    idle_time_before_scale_down=120,\n",
        ")  # 120 seconds\n",
        "\n",
        "ml_client.begin_create_or_update(compute_cluster)"
      ],
      "outputs": [
        {
          "output_type": "execute_result",
          "execution_count": 23,
          "data": {
            "text/plain": "<azure.core.polling._poller.LROPoller at 0x7f921f4cf520>"
          },
          "metadata": {}
        }
      ],
      "execution_count": 23,
      "metadata": {
        "jupyter": {
          "source_hidden": false,
          "outputs_hidden": false
        },
        "nteract": {
          "transient": {
            "deleting": false
          }
        },
        "gather": {
          "logged": 1709440216737
        }
      }
    },
    {
      "cell_type": "code",
      "source": [
        "# Endpoint names need to be unique in a region, hence using timestamp to create unique endpoint name\n",
        "timestamp = int(time.time())\n",
        "endpoint_name = \"speech-recognition-\" + str(timestamp)\n",
        "\n",
        "endpoint = BatchEndpoint(\n",
        "    name=endpoint_name,\n",
        "    description=\"Batch endpoint for \"\n",
        "    + foundation_model.name\n",
        "    + \", for automatic-speech-recognition task\",\n",
        ")\n",
        "ml_client.begin_create_or_update(endpoint).result()"
      ],
      "outputs": [
        {
          "output_type": "execute_result",
          "execution_count": 14,
          "data": {
            "text/plain": "<azure.ai.ml._restclient.v2022_05_01.models._models_py3.BatchEndpointData at 0x7f9224ffe950>"
          },
          "metadata": {}
        }
      ],
      "execution_count": 14,
      "metadata": {
        "jupyter": {
          "source_hidden": false,
          "outputs_hidden": false
        },
        "nteract": {
          "transient": {
            "deleting": false
          }
        },
        "gather": {
          "logged": 1709439672837
        }
      }
    },
    {
      "cell_type": "code",
      "source": [
        "deployment_name = \"demo\"\n",
        "\n",
        "deployment = BatchDeployment(\n",
        "    name=deployment_name,\n",
        "    endpoint_name=endpoint_name,\n",
        "    model=foundation_model.id,\n",
        "    compute=compute_name,\n",
        "    error_threshold=0,\n",
        "    instance_count=1,\n",
        "    logging_level=\"info\",\n",
        "    max_concurrency_per_instance=1,\n",
        "    mini_batch_size=2,\n",
        "    output_file_name=\"predictions.csv\",\n",
        "    retry_settings=BatchRetrySettings(max_retries=3, timeout=600),\n",
        ")\n",
        "ml_client.begin_create_or_update(deployment).result()"
      ],
      "outputs": [
        {
          "output_type": "execute_result",
          "execution_count": 24,
          "data": {
            "text/plain": "BatchDeployment({'provisioning_state': 'Succeeded', 'endpoint_name': 'speech-recognition-1709439640', 'type': None, 'name': 'demo', 'description': None, 'tags': {}, 'properties': {}, 'print_as_yaml': True, 'id': '/subscriptions/ed4b0003-99cf-4ec0-88ba-68847f627acf/resourceGroups/srijon-resourcegroup1/providers/Microsoft.MachineLearningServices/workspaces/srijon-workspace1/batchEndpoints/speech-recognition-1709439640/deployments/demo', 'Resource__source_path': None, 'base_path': '/mnt/batch/tasks/shared/LS_root/mounts/clusters/srijon-compute1/code/Users/mandal.srijon/GenAICode', 'creation_context': <azure.ai.ml.entities._system_data.SystemData object at 0x7f921f243700>, 'serialize': <msrest.serialization.Serializer object at 0x7f921f174040>, 'model': 'azureml://registries/azureml/models/openai-whisper-large/versions/10', 'code_configuration': None, 'environment': None, 'environment_variables': {}, 'compute': '/subscriptions/ed4b0003-99cf-4ec0-88ba-68847f627acf/resourceGroups/srijon-resourcegroup1/providers/Microsoft.MachineLearningServices/workspaces/srijon-workspace1/computes/test-cpu-cluster', 'resources': {'instance_count': 1, 'properties': {}}, 'output_action': 'append_row', 'output_file_name': 'predictions.csv', 'error_threshold': 0, 'retry_settings': <azure.ai.ml.entities._deployment.deployment_settings.BatchRetrySettings object at 0x7f921f4cc2b0>, 'logging_level': 'Info', 'mini_batch_size': 2, 'max_concurrency_per_instance': 1})"
          },
          "metadata": {}
        }
      ],
      "execution_count": 24,
      "metadata": {
        "jupyter": {
          "source_hidden": false,
          "outputs_hidden": true
        },
        "nteract": {
          "transient": {
            "deleting": false
          }
        },
        "gather": {
          "logged": 1709440407679
        }
      }
    },
    {
      "cell_type": "code",
      "source": [
        "endpoint = ml_client.batch_endpoints.get(endpoint_name)\n",
        "endpoint.defaults.deployment_name = deployment_name\n",
        "ml_client.begin_create_or_update(endpoint).wait()\n",
        "\n",
        "endpoint = ml_client.batch_endpoints.get(endpoint_name)\n",
        "print(f\"The default deployment is {endpoint.defaults.deployment_name}\")"
      ],
      "outputs": [
        {
          "output_type": "stream",
          "name": "stdout",
          "text": "The default deployment is demo\n"
        }
      ],
      "execution_count": 25,
      "metadata": {
        "jupyter": {
          "source_hidden": false,
          "outputs_hidden": false
        },
        "nteract": {
          "transient": {
            "deleting": false
          }
        },
        "gather": {
          "logged": 1709440638574
        }
      }
    },
    {
      "cell_type": "code",
      "source": [
        "input = Input(path=batch_inputs_dir, type=AssetTypes.URI_FOLDER)\n",
        "\n",
        "job = ml_client.batch_endpoints.invoke(\n",
        "    endpoint_name=endpoint.name, input=input\n",
        ")\n",
        "\n",
        "ml_client.jobs.stream(job.name)"
      ],
      "outputs": [],
      "execution_count": null,
      "metadata": {
        "jupyter": {
          "source_hidden": false,
          "outputs_hidden": false
        },
        "nteract": {
          "transient": {
            "deleting": false
          }
        },
        "gather": {
          "logged": 1709439674077
        }
      }
    },
    {
      "cell_type": "code",
      "source": [
        "scoring_job = list(ml_client.jobs.list(parent_job_name=job.name))[0]\n",
        "\n",
        "ml_client.jobs.download(\n",
        "    name=scoring_job.name, download_path=batch_dir, output_name=\"score\"\n",
        ")\n",
        "\n",
        "predictions_file = os.path.join(batch_dir, \"named-outputs\", \"score\", \"predictions.csv\")\n",
        "\n",
        "# Load the batch predictions file with no headers into a dataframe and set your column names\n",
        "score_df = pd.read_csv(\n",
        "    predictions_file,\n",
        "    header=None,\n",
        "    names=[\"row_number_per_file\", \"prediction\", \"batch_input_file_name\"],\n",
        ")\n",
        "score_df.head()"
      ],
      "outputs": [],
      "execution_count": null,
      "metadata": {
        "jupyter": {
          "source_hidden": false,
          "outputs_hidden": false
        },
        "nteract": {
          "transient": {
            "deleting": false
          }
        },
        "gather": {
          "logged": 1709439674097
        }
      }
    },
    {
      "cell_type": "code",
      "source": [
        "input_df = []\n",
        "for file in input_files:\n",
        "    input = pd.read_csv(os.path.join(batch_inputs_dir, file), index_col=0)\n",
        "    input.reset_index(inplace=True)\n",
        "    input[\"batch_input_file_name\"] = file\n",
        "    input.reset_index(names=[\"row_number_per_file\"], inplace=True)\n",
        "    input_df.append(input)\n",
        "input_df = pd.concat(input_df)\n",
        "input_df.set_index(\"index\", inplace=True)\n",
        "input_df = input_df.join(test_df.drop(columns=[\"audio\", \"language\"]))\n",
        "\n",
        "input_df.head()"
      ],
      "outputs": [],
      "execution_count": null,
      "metadata": {
        "jupyter": {
          "source_hidden": false,
          "outputs_hidden": false
        },
        "nteract": {
          "transient": {
            "deleting": false
          }
        }
      }
    },
    {
      "cell_type": "code",
      "source": [
        "df = pd.merge(\n",
        "    input_df, score_df, how=\"inner\", on=[\"row_number_per_file\", \"batch_input_file_name\"]\n",
        ")\n",
        "\n",
        "# Show the first few rows of the results\n",
        "df.head(20)"
      ],
      "outputs": [],
      "execution_count": null,
      "metadata": {
        "jupyter": {
          "source_hidden": false,
          "outputs_hidden": false
        },
        "nteract": {
          "transient": {
            "deleting": false
          }
        }
      }
    },
    {
      "cell_type": "code",
      "source": [
        "ml_client.batch_endpoints.begin_delete(name=endpoint_name).result()\n",
        "ml_client.compute.begin_delete(name=compute_name).result()"
      ],
      "outputs": [],
      "execution_count": null,
      "metadata": {
        "jupyter": {
          "source_hidden": false,
          "outputs_hidden": false
        },
        "nteract": {
          "transient": {
            "deleting": false
          }
        }
      }
    }
  ],
  "metadata": {
    "kernelspec": {
      "name": "python310-sdkv2",
      "language": "python",
      "display_name": "Python 3.10 - SDK v2"
    },
    "language_info": {
      "name": "python",
      "version": "3.10.11",
      "mimetype": "text/x-python",
      "codemirror_mode": {
        "name": "ipython",
        "version": 3
      },
      "pygments_lexer": "ipython3",
      "nbconvert_exporter": "python",
      "file_extension": ".py"
    },
    "microsoft": {
      "ms_spell_check": {
        "ms_spell_check_language": "en"
      },
      "host": {
        "AzureML": {
          "notebookHasBeenCompleted": true
        }
      }
    },
    "kernel_info": {
      "name": "python310-sdkv2"
    },
    "nteract": {
      "version": "nteract-front-end@1.0.0"
    }
  },
  "nbformat": 4,
  "nbformat_minor": 2
}